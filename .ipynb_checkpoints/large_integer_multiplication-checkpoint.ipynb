{
 "cells": [
  {
   "cell_type": "code",
   "execution_count": 1,
   "metadata": {},
   "outputs": [],
   "source": [
    "from convolutions import *\n",
    "import math"
   ]
  },
  {
   "cell_type": "markdown",
   "metadata": {},
   "source": [
    "## multiplication of large integers in O(nlogn) time\n",
    "we would like to multiply two large integers, `a` and `b`:"
   ]
  },
  {
   "cell_type": "code",
   "execution_count": 2,
   "metadata": {},
   "outputs": [
    {
     "name": "stdout",
     "output_type": "stream",
     "text": [
      "integer a is 72388 digits long\n",
      "integer b is a 71605 digits long\n"
     ]
    }
   ],
   "source": [
    "a=np.random.randint(0,10,72388)[None,...]\n",
    "b=np.random.randint(0,10,71605)[None,...]\n",
    "print(f'integer a is {a.shape[-1]} digits long')\n",
    "print(f'integer b is a {b.shape[-1]} digits long')"
   ]
  },
  {
   "cell_type": "code",
   "execution_count": 3,
   "metadata": {},
   "outputs": [
    {
     "name": "stdout",
     "output_type": "stream",
     "text": [
      "136 ms ± 1.1 ms per loop (mean ± std. dev. of 7 runs, 10 loops each)\n"
     ]
    }
   ],
   "source": [
    "# output size is 72388+71605-1=143992, fft will pad to 2^18=262144. we can use chunk size of 2^17=131072\n",
    "# to reduce padding and thus computation in FFT\n",
    "result_oa=np.rint(convolve_oa(a, b,chunk_thres=[1024,131072])[0,0]).astype(int)\n",
    "%timeit result_oa=np.rint(convolve_oa(a, b,chunk_thres=[1024,131072])[0,0]).astype(int)"
   ]
  },
  {
   "cell_type": "code",
   "execution_count": 4,
   "metadata": {},
   "outputs": [
    {
     "name": "stdout",
     "output_type": "stream",
     "text": [
      "the result is a 143992 digits long integer\n"
     ]
    }
   ],
   "source": [
    "# calculate the value of polynomial at x=10\n",
    "result=0\n",
    "for i in result_oa:\n",
    "    result*=10\n",
    "    result+=int(i)\n",
    "print(f'the result is a {int(math.log10(result))+1} digits long integer')"
   ]
  },
  {
   "cell_type": "markdown",
   "metadata": {},
   "source": [
    "## comparison with built in"
   ]
  },
  {
   "cell_type": "code",
   "execution_count": 5,
   "metadata": {},
   "outputs": [],
   "source": [
    "aa=int(''.join(a[0].astype(str))) # convert to python int\n",
    "bb=int(''.join(b[0].astype(str)))"
   ]
  },
  {
   "cell_type": "code",
   "execution_count": 6,
   "metadata": {},
   "outputs": [
    {
     "name": "stdout",
     "output_type": "stream",
     "text": [
      "15.4 ms ± 175 µs per loop (mean ± std. dev. of 7 runs, 100 loops each)\n"
     ]
    }
   ],
   "source": [
    "result_true=aa*bb\n",
    "%timeit result_true=aa*bb"
   ]
  },
  {
   "cell_type": "code",
   "execution_count": 7,
   "metadata": {},
   "outputs": [
    {
     "data": {
      "text/plain": [
       "True"
      ]
     },
     "execution_count": 7,
     "metadata": {},
     "output_type": "execute_result"
    }
   ],
   "source": [
    "result_true==result"
   ]
  },
  {
   "cell_type": "markdown",
   "metadata": {},
   "source": [
    "It is better to represent large integers using large bases like base 16, so it can be represented using less digits, and during evaluation, we can use bit shift operator `result<<=4`"
   ]
  },
  {
   "cell_type": "code",
   "execution_count": null,
   "metadata": {},
   "outputs": [],
   "source": []
  }
 ],
 "metadata": {
  "kernelspec": {
   "display_name": "Python 3",
   "language": "python",
   "name": "python3"
  },
  "language_info": {
   "codemirror_mode": {
    "name": "ipython",
    "version": 3
   },
   "file_extension": ".py",
   "mimetype": "text/x-python",
   "name": "python",
   "nbconvert_exporter": "python",
   "pygments_lexer": "ipython3",
   "version": "3.8.5"
  }
 },
 "nbformat": 4,
 "nbformat_minor": 4
}
