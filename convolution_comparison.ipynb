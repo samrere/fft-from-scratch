{
 "cells": [
  {
   "cell_type": "code",
   "execution_count": 1,
   "metadata": {},
   "outputs": [],
   "source": [
    "from convolutions import *\n",
    "from scipy import signal"
   ]
  },
  {
   "cell_type": "markdown",
   "metadata": {},
   "source": [
    "## small N\n",
    "direct matrix multiplication is faster, and the scipy `signal.convolve` uses the direct matrix multiplication to compute convolution."
   ]
  },
  {
   "cell_type": "code",
   "execution_count": 2,
   "metadata": {},
   "outputs": [],
   "source": [
    "image=np.random.randn(25,25)\n",
    "kernel=np.random.randn(3,3)\n",
    "mode='full'"
   ]
  },
  {
   "cell_type": "code",
   "execution_count": 3,
   "metadata": {},
   "outputs": [
    {
     "name": "stdout",
     "output_type": "stream",
     "text": [
      "171 µs ± 4.87 µs per loop (mean ± std. dev. of 7 runs, 1000 loops each)\n"
     ]
    }
   ],
   "source": [
    "# direct mat. mul. method\n",
    "result_direct=convolve_direct(image, kernel,mode=mode)[0]\n",
    "%timeit result_direct=convolve_direct(image, kernel,mode=mode)[0]"
   ]
  },
  {
   "cell_type": "code",
   "execution_count": 4,
   "metadata": {},
   "outputs": [
    {
     "name": "stdout",
     "output_type": "stream",
     "text": [
      "622 µs ± 7.11 µs per loop (mean ± std. dev. of 7 runs, 1000 loops each)\n"
     ]
    }
   ],
   "source": [
    "# fft method\n",
    "result_fft=convolve_fft(image, kernel,mode=mode)\n",
    "%timeit result_fft=convolve_fft(image, kernel,mode=mode)"
   ]
  },
  {
   "cell_type": "code",
   "execution_count": 5,
   "metadata": {},
   "outputs": [
    {
     "name": "stdout",
     "output_type": "stream",
     "text": [
      "791 µs ± 26 µs per loop (mean ± std. dev. of 7 runs, 1000 loops each)\n"
     ]
    }
   ],
   "source": [
    "# overlap add fft method\n",
    "result_oa=convolve_oa(image, kernel,mode=mode)[0]\n",
    "%timeit result_oa=convolve_oa(image, kernel,mode=mode)[0]"
   ]
  },
  {
   "cell_type": "code",
   "execution_count": 6,
   "metadata": {},
   "outputs": [
    {
     "name": "stdout",
     "output_type": "stream",
     "text": [
      "182 µs ± 772 ns per loop (mean ± std. dev. of 7 runs, 10000 loops each)\n",
      "scipy uses the \"direct\" method to compute this convolution.\n",
      "\n"
     ]
    }
   ],
   "source": [
    "# scipy signal convolve\n",
    "result_true=signal.convolve(image,kernel,mode=mode)\n",
    "%timeit result_true=signal.convolve(image,kernel,mode=mode)\n",
    "print(f'scipy uses the \"{signal.choose_conv_method(image,kernel)}\" method to compute this convolution.\\n')"
   ]
  },
  {
   "cell_type": "code",
   "execution_count": 7,
   "metadata": {},
   "outputs": [
    {
     "name": "stdout",
     "output_type": "stream",
     "text": [
      "True\n",
      "True\n",
      "True\n"
     ]
    }
   ],
   "source": [
    "print(np.allclose(result_true,result_direct))\n",
    "print(np.allclose(result_true,result_fft))\n",
    "print(np.allclose(result_true,result_oa))"
   ]
  },
  {
   "cell_type": "markdown",
   "metadata": {},
   "source": [
    "## large N (output size a bit smaller than a power of 2)\n",
    "fft method is faster, as direct matrix multiplication method grows in O(n^2). Note, dimension of full size convolution is (image size + kernel size - 1). fft will pad zeros to the next nearest power of 2. For example, if the size is 1000, fft will pad it to 1024."
   ]
  },
  {
   "cell_type": "code",
   "execution_count": 8,
   "metadata": {},
   "outputs": [],
   "source": [
    "# output size will be (823,809) + (123,109) - (1,1) = (945,917), very close to its next power of 2, i.e. 1024\n",
    "image=np.random.randn(823,809)\n",
    "kernel=np.random.randn(123,109)\n",
    "mode='full'"
   ]
  },
  {
   "cell_type": "code",
   "execution_count": 9,
   "metadata": {},
   "outputs": [
    {
     "name": "stdout",
     "output_type": "stream",
     "text": [
      "16.3 s ± 0 ns per loop (mean ± std. dev. of 1 run, 1 loop each)\n"
     ]
    }
   ],
   "source": [
    "result_direct=convolve_direct(image, kernel,mode=mode)[0]\n",
    "%timeit -r1 -n1 result_direct=convolve_direct(image, kernel,mode=mode)[0]"
   ]
  },
  {
   "cell_type": "code",
   "execution_count": 10,
   "metadata": {},
   "outputs": [
    {
     "name": "stdout",
     "output_type": "stream",
     "text": [
      "1.52 s ± 6.83 ms per loop (mean ± std. dev. of 7 runs, 1 loop each)\n"
     ]
    }
   ],
   "source": [
    "result_fft=convolve_fft(image, kernel,mode=mode)\n",
    "%timeit result_fft=convolve_fft(image, kernel,mode=mode)"
   ]
  },
  {
   "cell_type": "code",
   "execution_count": 11,
   "metadata": {},
   "outputs": [
    {
     "name": "stdout",
     "output_type": "stream",
     "text": [
      "1.56 s ± 5.54 ms per loop (mean ± std. dev. of 7 runs, 1 loop each)\n"
     ]
    }
   ],
   "source": [
    "result_oa=convolve_oa(image, kernel,mode=mode)[0]\n",
    "%timeit result_oa=convolve_oa(image, kernel,mode=mode)[0]"
   ]
  },
  {
   "cell_type": "code",
   "execution_count": 12,
   "metadata": {},
   "outputs": [
    {
     "name": "stdout",
     "output_type": "stream",
     "text": [
      "33.8 ms ± 309 µs per loop (mean ± std. dev. of 7 runs, 10 loops each)\n",
      "scipy uses the \"fft\" method to compute this convolution.\n",
      "\n"
     ]
    }
   ],
   "source": [
    "result_true=signal.convolve(image,kernel,mode=mode)\n",
    "%timeit result_true=signal.convolve(image,kernel,mode=mode)\n",
    "print(f'scipy uses the \"{signal.choose_conv_method(image,kernel)}\" method to compute this convolution.\\n')"
   ]
  },
  {
   "cell_type": "code",
   "execution_count": 13,
   "metadata": {},
   "outputs": [
    {
     "name": "stdout",
     "output_type": "stream",
     "text": [
      "True\n",
      "True\n",
      "True\n"
     ]
    }
   ],
   "source": [
    "print(np.allclose(result_true,result_direct))\n",
    "print(np.allclose(result_true,result_fft))\n",
    "print(np.allclose(result_true,result_oa))"
   ]
  },
  {
   "cell_type": "markdown",
   "metadata": {},
   "source": [
    "## larger N (output size a bit larger than a power of 2)\n",
    "If the output size is 1025, fft will pad it to 2048, thus making it 4x inefficient in 2D, a better approach is to divide image to chunks such that (chunk size + kernel size - 1) equals to a power of 2 (i.e. 1024), then overlap the results and add them together.\n",
    "\n",
    "Chunk size should be set to the largest power of 2 that is smaller than output shape. For example, if the output shape is (1045,1027), chunk size should be (1024,1024). chunk size can also be set lower to save memory."
   ]
  },
  {
   "cell_type": "code",
   "execution_count": 14,
   "metadata": {},
   "outputs": [],
   "source": [
    "# output size will be (823,809) + (223,219) - (1,1) = (1045,1027), fft will pad to (2048,2048), thus 4x slower\n",
    "image=np.random.randn(823,809)\n",
    "kernel=np.random.randn(223,219)\n",
    "mode='full'"
   ]
  },
  {
   "cell_type": "code",
   "execution_count": 15,
   "metadata": {},
   "outputs": [
    {
     "name": "stdout",
     "output_type": "stream",
     "text": [
      "1min 15s ± 0 ns per loop (mean ± std. dev. of 1 run, 1 loop each)\n"
     ]
    }
   ],
   "source": [
    "result_direct=convolve_direct(image, kernel,mode=mode)[0]\n",
    "%timeit -r1 -n1 result_direct=convolve_direct(image, kernel,mode=mode)[0]"
   ]
  },
  {
   "cell_type": "code",
   "execution_count": 16,
   "metadata": {},
   "outputs": [
    {
     "name": "stdout",
     "output_type": "stream",
     "text": [
      "13.1 s ± 0 ns per loop (mean ± std. dev. of 1 run, 1 loop each)\n"
     ]
    }
   ],
   "source": [
    "result_fft=convolve_fft(image, kernel,mode=mode)\n",
    "%timeit -r1 -n1 result_fft=convolve_fft(image, kernel,mode=mode)"
   ]
  },
  {
   "cell_type": "code",
   "execution_count": 17,
   "metadata": {},
   "outputs": [
    {
     "name": "stdout",
     "output_type": "stream",
     "text": [
      "2.35 s ± 34.4 ms per loop (mean ± std. dev. of 7 runs, 1 loop each)\n"
     ]
    }
   ],
   "source": [
    "result_oa=convolve_oa(image, kernel,mode=mode,chunk_thres=(1024,1024))[0]\n",
    "%timeit result_oa=convolve_oa(image, kernel,mode=mode,chunk_thres=(1024,1024))[0]"
   ]
  },
  {
   "cell_type": "code",
   "execution_count": 18,
   "metadata": {},
   "outputs": [
    {
     "name": "stdout",
     "output_type": "stream",
     "text": [
      "56.3 ms ± 250 µs per loop (mean ± std. dev. of 7 runs, 10 loops each)\n",
      "scipy uses the \"fft\" method to compute this convolution.\n",
      "\n"
     ]
    }
   ],
   "source": [
    "result_true=signal.convolve(image,kernel,mode=mode)\n",
    "%timeit result_true=signal.convolve(image,kernel,mode=mode)\n",
    "print(f'scipy uses the \"{signal.choose_conv_method(image,kernel)}\" method to compute this convolution.\\n')"
   ]
  },
  {
   "cell_type": "code",
   "execution_count": 19,
   "metadata": {},
   "outputs": [
    {
     "name": "stdout",
     "output_type": "stream",
     "text": [
      "True\n",
      "True\n",
      "True\n"
     ]
    }
   ],
   "source": [
    "print(np.allclose(result_true,result_direct))\n",
    "print(np.allclose(result_true,result_fft))\n",
    "print(np.allclose(result_true,result_oa))"
   ]
  },
  {
   "cell_type": "code",
   "execution_count": null,
   "metadata": {},
   "outputs": [],
   "source": []
  }
 ],
 "metadata": {
  "kernelspec": {
   "display_name": "Python 3",
   "language": "python",
   "name": "python3"
  },
  "language_info": {
   "codemirror_mode": {
    "name": "ipython",
    "version": 3
   },
   "file_extension": ".py",
   "mimetype": "text/x-python",
   "name": "python",
   "nbconvert_exporter": "python",
   "pygments_lexer": "ipython3",
   "version": "3.8.5"
  }
 },
 "nbformat": 4,
 "nbformat_minor": 4
}
