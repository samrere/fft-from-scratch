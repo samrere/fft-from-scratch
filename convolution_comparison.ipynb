{
 "cells": [
  {
   "cell_type": "code",
   "execution_count": 1,
   "metadata": {},
   "outputs": [],
   "source": [
    "from fft import *\n",
    "from scipy import signal"
   ]
  },
  {
   "cell_type": "markdown",
   "metadata": {},
   "source": [
    "### convolution implemented using direct matrix multiplication"
   ]
  },
  {
   "cell_type": "code",
   "execution_count": 2,
   "metadata": {},
   "outputs": [],
   "source": [
    "def convolve_direct(img,kernel,mode='full'):\n",
    "    assert mode in {'full','same','valid'}, NotImplemented\n",
    "    kernel=np.flipud(np.fliplr(kernel))\n",
    "    return cross_correlation(img,kernel,mode)\n",
    "\n",
    "def cross_correlation(img, kernel,mode):\n",
    "    '''\n",
    "    img: C*H*W, where C is channel (3 for rgb image, 1 for grayscale);\n",
    "                  H and W are image height and width respectively.\n",
    "    '''\n",
    "    if img.ndim==2:\n",
    "        img=img[None,...]\n",
    "\n",
    "    kernel_size = kernel.shape\n",
    "    h_k, w_k = kernel.shape  # kernel height and width\n",
    "    if mode == 'full':\n",
    "        padding = (h_k - 1, w_k - 1)\n",
    "        pad_width = [[0, 0] for _ in range(img.ndim)]\n",
    "        pad_width[-2] = [padding[0], padding[0]]\n",
    "        pad_width[-1] = [padding[1], padding[1]]\n",
    "        padded = np.pad(img, pad_width)\n",
    "        return cross_correlation(padded, kernel, mode='valid')\n",
    "    elif mode == 'same':\n",
    "        padding = (h_k // 2, w_k // 2)\n",
    "        pad_width = [[0, 0] for _ in range(img.ndim)]\n",
    "        pad_width[-2] = [padding[0], padding[0]]\n",
    "        pad_width[-1] = [padding[1], padding[1]]\n",
    "        padded = np.pad(img, pad_width)\n",
    "    elif mode == 'valid':\n",
    "        padding = (0,0)\n",
    "        padded=img\n",
    "\n",
    "    C, H_in, W_in = img.shape  # batch size, rgb channel, Height, Width\n",
    "    H_out = np.floor(H_in + 2 * padding[0] - kernel_size[0] + 1).astype(int)\n",
    "    W_out = np.floor(W_in + 2 * padding[1] - kernel_size[1] + 1).astype(int)\n",
    "\n",
    "    expanded = np.lib.stride_tricks.as_strided(\n",
    "        padded,\n",
    "        shape=(\n",
    "            H_out,  # out channel height\n",
    "            W_out,  # out channel width\n",
    "            padded.shape[-3],  # input channel\n",
    "            kernel.shape[-2],  # kernel height\n",
    "            kernel.shape[-1],  # kernel width\n",
    "        ),\n",
    "        strides=(\n",
    "            padded.strides[-2],  # H dimension\n",
    "            padded.strides[-1],  # W dimension\n",
    "            padded.strides[-3],  # input chennel\n",
    "            padded.strides[-2],  # kernel height\n",
    "            padded.strides[-1],  # kernel width\n",
    "        ),\n",
    "        writeable=False,\n",
    "    )\n",
    "    feature_map = np.ascontiguousarray(np.moveaxis(np.einsum('...ij,...ij->...', expanded, kernel), -1, -3))\n",
    "    return feature_map"
   ]
  },
  {
   "cell_type": "markdown",
   "metadata": {},
   "source": [
    "### convolution implemented using fft"
   ]
  },
  {
   "cell_type": "code",
   "execution_count": 3,
   "metadata": {},
   "outputs": [],
   "source": [
    "def convolve_fft(image, kernel,mode='full'):\n",
    "    assert mode in {'full','same','valid'}, NotImplemented\n",
    "    h,w=image.shape\n",
    "    hk,wk=kernel.shape\n",
    "    # the shape of the output should be (h+hk-1, w+wk-1) for full convolution,\n",
    "    # need to extend to next power of 2\n",
    "    hf,wf=1<<(h+hk-2).bit_length(),1<<(w+wk-2).bit_length()\n",
    "    img_padded=np.pad(image,((0,hf-h),(0,wf-w)))\n",
    "    kernel_padded=np.pad(kernel,((0,hf-hk),(0,wf-wk)))\n",
    "    image_hat=fft2(img_padded)\n",
    "    kernel_hat=fft2(kernel_padded)\n",
    "    output_hat=image_hat*kernel_hat\n",
    "    result_fft=np.real(ifft2(output_hat))[:(h+hk-1), :(w+wk-1)]\n",
    "    if mode=='same':\n",
    "        return result_fft[(hk//2):(h+hk//2),(wk//2):(w+wk//2)]\n",
    "    elif mode=='valid':\n",
    "        return result_fft[(hk-1):(hk-1+h-2*(hk//2)),(wk-1):(wk-1+w-2*(wk//2))]\n",
    "    elif mode=='full':\n",
    "        return result_fft"
   ]
  },
  {
   "cell_type": "markdown",
   "metadata": {},
   "source": [
    "### small N\n",
    "direct matrix multiplication is faster."
   ]
  },
  {
   "cell_type": "code",
   "execution_count": 4,
   "metadata": {},
   "outputs": [],
   "source": [
    "image=np.random.randn(823,809)\n",
    "kernel=np.random.randn(21,21)\n",
    "mode='full'"
   ]
  },
  {
   "cell_type": "code",
   "execution_count": 5,
   "metadata": {},
   "outputs": [
    {
     "name": "stdout",
     "output_type": "stream",
     "text": [
      "CPU times: user 2.02 s, sys: 112 ms, total: 2.13 s\n",
      "Wall time: 1.73 s\n"
     ]
    }
   ],
   "source": [
    "%%time\n",
    "result_fft=convolve_fft(image, kernel,mode=mode)"
   ]
  },
  {
   "cell_type": "code",
   "execution_count": 6,
   "metadata": {},
   "outputs": [
    {
     "name": "stdout",
     "output_type": "stream",
     "text": [
      "CPU times: user 428 ms, sys: 0 ns, total: 428 ms\n",
      "Wall time: 427 ms\n"
     ]
    }
   ],
   "source": [
    "%%time\n",
    "result_direct=convolve_direct(image, kernel,mode=mode)[0,...]"
   ]
  },
  {
   "cell_type": "code",
   "execution_count": 7,
   "metadata": {},
   "outputs": [
    {
     "name": "stdout",
     "output_type": "stream",
     "text": [
      "scipy uses the \"fft\" method to compute this convolution.\n",
      "\n",
      "CPU times: user 43.4 ms, sys: 0 ns, total: 43.4 ms\n",
      "Wall time: 43.1 ms\n"
     ]
    }
   ],
   "source": [
    "%%time\n",
    "result_true=signal.convolve(image,kernel,mode=mode)\n",
    "print(f'scipy uses the \"{signal.choose_conv_method(image,kernel)}\" method to compute this convolution.\\n')"
   ]
  },
  {
   "cell_type": "code",
   "execution_count": 8,
   "metadata": {},
   "outputs": [
    {
     "name": "stdout",
     "output_type": "stream",
     "text": [
      "True\n",
      "True\n"
     ]
    }
   ],
   "source": [
    "print(np.allclose(result_true,result_fft))\n",
    "print(np.allclose(result_true,result_direct))"
   ]
  },
  {
   "cell_type": "markdown",
   "metadata": {},
   "source": [
    "### large N\n",
    "fft method is faster, as direct matrix multiplication method grows in O(n^2). Note, dimension of full size convolution is (image size + kernel size - 1). fft will pad zeros to the next nearest power of 2. For example, if the size is 1025, fft will pad it to 2048, thus making it inefficient, a better approach is to divide image to chunks such that (chunk size + kernel size - 1) equals to a power of 2 (i.e. 256), then overlap the results and add them together."
   ]
  },
  {
   "cell_type": "code",
   "execution_count": 9,
   "metadata": {},
   "outputs": [],
   "source": [
    "image=np.random.randn(823,809)\n",
    "kernel=np.random.randn(123,109)\n",
    "mode='full'"
   ]
  },
  {
   "cell_type": "code",
   "execution_count": 10,
   "metadata": {},
   "outputs": [
    {
     "name": "stdout",
     "output_type": "stream",
     "text": [
      "CPU times: user 2 s, sys: 50 ms, total: 2.05 s\n",
      "Wall time: 1.66 s\n"
     ]
    }
   ],
   "source": [
    "%%time\n",
    "result_fft=convolve_fft(image, kernel,mode=mode)"
   ]
  },
  {
   "cell_type": "code",
   "execution_count": 11,
   "metadata": {},
   "outputs": [
    {
     "name": "stdout",
     "output_type": "stream",
     "text": [
      "CPU times: user 15.9 s, sys: 1.11 ms, total: 15.9 s\n",
      "Wall time: 15.9 s\n"
     ]
    }
   ],
   "source": [
    "%%time\n",
    "result_direct=convolve_direct(image, kernel,mode=mode)[0,...]"
   ]
  },
  {
   "cell_type": "code",
   "execution_count": 12,
   "metadata": {},
   "outputs": [
    {
     "name": "stdout",
     "output_type": "stream",
     "text": [
      "scipy uses the \"fft\" method to compute this convolution.\n",
      "\n",
      "CPU times: user 46.5 ms, sys: 29 µs, total: 46.5 ms\n",
      "Wall time: 45.1 ms\n"
     ]
    }
   ],
   "source": [
    "%%time\n",
    "result_true=signal.convolve(image,kernel,mode=mode)\n",
    "print(f'scipy uses the \"{signal.choose_conv_method(image,kernel)}\" method to compute this convolution.\\n')"
   ]
  },
  {
   "cell_type": "code",
   "execution_count": 13,
   "metadata": {},
   "outputs": [
    {
     "name": "stdout",
     "output_type": "stream",
     "text": [
      "True\n",
      "True\n"
     ]
    }
   ],
   "source": [
    "print(np.allclose(result_true,result_fft))\n",
    "print(np.allclose(result_true,result_direct))"
   ]
  },
  {
   "cell_type": "code",
   "execution_count": null,
   "metadata": {},
   "outputs": [],
   "source": []
  }
 ],
 "metadata": {
  "kernelspec": {
   "display_name": "Python 3",
   "language": "python",
   "name": "python3"
  },
  "language_info": {
   "codemirror_mode": {
    "name": "ipython",
    "version": 3
   },
   "file_extension": ".py",
   "mimetype": "text/x-python",
   "name": "python",
   "nbconvert_exporter": "python",
   "pygments_lexer": "ipython3",
   "version": "3.8.5"
  }
 },
 "nbformat": 4,
 "nbformat_minor": 4
}
