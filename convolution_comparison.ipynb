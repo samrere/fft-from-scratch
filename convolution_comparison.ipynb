{
 "cells": [
  {
   "cell_type": "code",
   "execution_count": 1,
   "metadata": {},
   "outputs": [],
   "source": [
    "from convolutions import *\n",
    "from scipy import signal\n",
    "import torch"
   ]
  },
  {
   "cell_type": "markdown",
   "metadata": {},
   "source": [
    "## small N\n",
    "direct matrix multiplication is faster, and the scipy `signal.convolve` uses the direct matrix multiplication to compute convolution."
   ]
  },
  {
   "cell_type": "code",
   "execution_count": 2,
   "metadata": {},
   "outputs": [],
   "source": [
    "image=np.random.randn(25,25)\n",
    "kernel=np.random.randn(3,3)\n",
    "mode='full'"
   ]
  },
  {
   "cell_type": "code",
   "execution_count": 3,
   "metadata": {},
   "outputs": [
    {
     "name": "stdout",
     "output_type": "stream",
     "text": [
      "176 µs ± 442 ns per loop (mean ± std. dev. of 7 runs, 10000 loops each)\n"
     ]
    }
   ],
   "source": [
    "# direct mat. mul. method\n",
    "result_direct=convolve_direct(image[None,None,...], kernel[None,None,...],mode=mode)[0,0]\n",
    "%timeit result_direct=convolve_direct(image[None,None,...], kernel[None,None,...],mode=mode)[0,0]"
   ]
  },
  {
   "cell_type": "code",
   "execution_count": 4,
   "metadata": {},
   "outputs": [
    {
     "name": "stdout",
     "output_type": "stream",
     "text": [
      "594 µs ± 7.98 µs per loop (mean ± std. dev. of 7 runs, 1000 loops each)\n"
     ]
    }
   ],
   "source": [
    "# fft method\n",
    "result_fft=convolve_fft(image, kernel,mode=mode)\n",
    "%timeit result_fft=convolve_fft(image, kernel,mode=mode)"
   ]
  },
  {
   "cell_type": "code",
   "execution_count": 5,
   "metadata": {},
   "outputs": [
    {
     "name": "stdout",
     "output_type": "stream",
     "text": [
      "699 µs ± 7.42 µs per loop (mean ± std. dev. of 7 runs, 1000 loops each)\n"
     ]
    }
   ],
   "source": [
    "# overlap add fft method\n",
    "result_oa=convolve_oa(image, kernel,mode=mode)[0]\n",
    "%timeit result_oa=convolve_oa(image, kernel,mode=mode)[0]"
   ]
  },
  {
   "cell_type": "code",
   "execution_count": 6,
   "metadata": {},
   "outputs": [
    {
     "name": "stdout",
     "output_type": "stream",
     "text": [
      "177 µs ± 1.15 µs per loop (mean ± std. dev. of 7 runs, 10000 loops each)\n",
      "scipy uses the \"direct\" method to compute this convolution.\n",
      "\n"
     ]
    }
   ],
   "source": [
    "# scipy signal convolve\n",
    "result_true=signal.convolve(image,kernel,mode=mode)\n",
    "%timeit result_true=signal.convolve(image,kernel,mode=mode)\n",
    "print(f'scipy uses the \"{signal.choose_conv_method(image,kernel)}\" method to compute this convolution.\\n')"
   ]
  },
  {
   "cell_type": "code",
   "execution_count": 7,
   "metadata": {},
   "outputs": [
    {
     "name": "stdout",
     "output_type": "stream",
     "text": [
      "True\n",
      "True\n",
      "True\n"
     ]
    }
   ],
   "source": [
    "print(np.allclose(result_true,result_direct))\n",
    "print(np.allclose(result_true,result_fft))\n",
    "print(np.allclose(result_true,result_oa))"
   ]
  },
  {
   "cell_type": "markdown",
   "metadata": {},
   "source": [
    "## large N (output size a bit smaller than a power of 2)\n",
    "fft method is faster, as direct matrix multiplication method grows in O(n^2). Note, dimension of full size convolution is (image size + kernel size - 1). fft will pad zeros to the next nearest power of 2. For example, if the size is 1000, fft will pad it to 1024."
   ]
  },
  {
   "cell_type": "code",
   "execution_count": 8,
   "metadata": {},
   "outputs": [],
   "source": [
    "# output size will be (823,809) + (123,109) - (1,1) = (945,917), very close to its next power of 2, i.e. 1024\n",
    "image=np.random.randn(823,809)\n",
    "kernel=np.random.randn(123,109)\n",
    "mode='full'"
   ]
  },
  {
   "cell_type": "code",
   "execution_count": 9,
   "metadata": {},
   "outputs": [
    {
     "name": "stdout",
     "output_type": "stream",
     "text": [
      "15.9 s ± 0 ns per loop (mean ± std. dev. of 1 run, 1 loop each)\n"
     ]
    }
   ],
   "source": [
    "result_direct=convolve_direct(image[None,None,...], kernel[None,None,...],mode=mode)[0,0]\n",
    "%timeit -r1 -n1 result_direct=convolve_direct(image[None,None,...], kernel[None,None,...],mode=mode)[0,0]"
   ]
  },
  {
   "cell_type": "code",
   "execution_count": 10,
   "metadata": {},
   "outputs": [
    {
     "name": "stdout",
     "output_type": "stream",
     "text": [
      "1.72 s ± 15.5 ms per loop (mean ± std. dev. of 7 runs, 1 loop each)\n"
     ]
    }
   ],
   "source": [
    "result_fft=convolve_fft(image, kernel,mode=mode)\n",
    "%timeit result_fft=convolve_fft(image, kernel,mode=mode)"
   ]
  },
  {
   "cell_type": "code",
   "execution_count": 11,
   "metadata": {},
   "outputs": [
    {
     "name": "stdout",
     "output_type": "stream",
     "text": [
      "1.72 s ± 13.1 ms per loop (mean ± std. dev. of 7 runs, 1 loop each)\n"
     ]
    }
   ],
   "source": [
    "result_oa=convolve_oa(image, kernel,mode=mode)[0]\n",
    "%timeit result_oa=convolve_oa(image, kernel,mode=mode)[0]"
   ]
  },
  {
   "cell_type": "code",
   "execution_count": 12,
   "metadata": {},
   "outputs": [
    {
     "name": "stdout",
     "output_type": "stream",
     "text": [
      "33.9 ms ± 482 µs per loop (mean ± std. dev. of 7 runs, 10 loops each)\n",
      "scipy uses the \"fft\" method to compute this convolution.\n",
      "\n"
     ]
    }
   ],
   "source": [
    "result_true=signal.convolve(image,kernel,mode=mode)\n",
    "%timeit result_true=signal.convolve(image,kernel,mode=mode)\n",
    "print(f'scipy uses the \"{signal.choose_conv_method(image,kernel)}\" method to compute this convolution.\\n')"
   ]
  },
  {
   "cell_type": "code",
   "execution_count": 13,
   "metadata": {},
   "outputs": [
    {
     "name": "stdout",
     "output_type": "stream",
     "text": [
      "True\n",
      "True\n",
      "True\n"
     ]
    }
   ],
   "source": [
    "print(np.allclose(result_true,result_direct))\n",
    "print(np.allclose(result_true,result_fft))\n",
    "print(np.allclose(result_true,result_oa))"
   ]
  },
  {
   "cell_type": "markdown",
   "metadata": {},
   "source": [
    "## larger N (output size a bit larger than a power of 2)\n",
    "If the output size is 1025, fft will pad it to 2048, thus making it 4x inefficient in 2D, a better approach is to divide image to chunks such that (chunk size + kernel size - 1) equals to a power of 2 (i.e. 1024), then overlap the results and add them together.\n",
    "\n",
    "Chunk size should be set to the largest power of 2 that is smaller than output shape. For example, if the output shape is (1045,1027), chunk size should be (1024,1024). chunk size can also be set lower to save memory."
   ]
  },
  {
   "cell_type": "code",
   "execution_count": 14,
   "metadata": {},
   "outputs": [],
   "source": [
    "# output size will be (823,809) + (223,219) - (1,1) = (1045,1027), fft will pad to (2048,2048), thus 4x slower\n",
    "image=np.random.randn(823,809)\n",
    "kernel=np.random.randn(223,219)\n",
    "mode='full'"
   ]
  },
  {
   "cell_type": "code",
   "execution_count": 15,
   "metadata": {},
   "outputs": [
    {
     "name": "stdout",
     "output_type": "stream",
     "text": [
      "1min 15s ± 0 ns per loop (mean ± std. dev. of 1 run, 1 loop each)\n"
     ]
    }
   ],
   "source": [
    "result_direct=convolve_direct(image[None,None,...], kernel[None,None,...],mode=mode)[0,0]\n",
    "%timeit -r1 -n1 result_direct=convolve_direct(image[None,None,...], kernel[None,None,...],mode=mode)[0,0]"
   ]
  },
  {
   "cell_type": "code",
   "execution_count": 16,
   "metadata": {},
   "outputs": [
    {
     "name": "stdout",
     "output_type": "stream",
     "text": [
      "11.4 s ± 0 ns per loop (mean ± std. dev. of 1 run, 1 loop each)\n"
     ]
    }
   ],
   "source": [
    "result_fft=convolve_fft(image, kernel,mode=mode)\n",
    "%timeit -r1 -n1 result_fft=convolve_fft(image, kernel,mode=mode)"
   ]
  },
  {
   "cell_type": "code",
   "execution_count": 17,
   "metadata": {},
   "outputs": [
    {
     "name": "stdout",
     "output_type": "stream",
     "text": [
      "2.5 s ± 39.1 ms per loop (mean ± std. dev. of 7 runs, 1 loop each)\n"
     ]
    }
   ],
   "source": [
    "result_oa=convolve_oa(image, kernel,mode=mode,chunk_thres=(1024,1024))[0]\n",
    "%timeit result_oa=convolve_oa(image, kernel,mode=mode,chunk_thres=(1024,1024))[0]"
   ]
  },
  {
   "cell_type": "code",
   "execution_count": 18,
   "metadata": {},
   "outputs": [
    {
     "name": "stdout",
     "output_type": "stream",
     "text": [
      "55.9 ms ± 579 µs per loop (mean ± std. dev. of 7 runs, 10 loops each)\n",
      "scipy uses the \"fft\" method to compute this convolution.\n",
      "\n"
     ]
    }
   ],
   "source": [
    "result_true=signal.convolve(image,kernel,mode=mode)\n",
    "%timeit result_true=signal.convolve(image,kernel,mode=mode)\n",
    "print(f'scipy uses the \"{signal.choose_conv_method(image,kernel)}\" method to compute this convolution.\\n')"
   ]
  },
  {
   "cell_type": "code",
   "execution_count": 19,
   "metadata": {},
   "outputs": [
    {
     "name": "stdout",
     "output_type": "stream",
     "text": [
      "True\n",
      "True\n",
      "True\n"
     ]
    }
   ],
   "source": [
    "print(np.allclose(result_true,result_direct))\n",
    "print(np.allclose(result_true,result_fft))\n",
    "print(np.allclose(result_true,result_oa))"
   ]
  },
  {
   "cell_type": "markdown",
   "metadata": {},
   "source": [
    "## compare with torch.nn.Conv2d\n",
    "convolution in torch is actually cross correlation in math, we need to flip the kernel in its height and width axis before using fft method.  \n",
    "\n",
    "Also, since the inputs are real, we can use `numpy.fft.rfft2` and `numpy.fft.irfft2` for efficiency.  \n",
    "\n",
    "fft method is both faster and more accurate than mat. mul. method."
   ]
  },
  {
   "cell_type": "code",
   "execution_count": 20,
   "metadata": {},
   "outputs": [],
   "source": [
    "inpt=np.random.random((32,128,8,8))\n",
    "weight=np.random.random((128,128,3,3))"
   ]
  },
  {
   "cell_type": "code",
   "execution_count": 21,
   "metadata": {},
   "outputs": [
    {
     "name": "stdout",
     "output_type": "stream",
     "text": [
      "CPU times: user 2.63 s, sys: 31 µs, total: 2.63 s\n",
      "Wall time: 2.63 s\n"
     ]
    }
   ],
   "source": [
    "# conv. as matrix multiplication\n",
    "%time y_mat=cross_correlation(inpt,weight,mode='valid')"
   ]
  },
  {
   "cell_type": "code",
   "execution_count": 22,
   "metadata": {},
   "outputs": [
    {
     "name": "stdout",
     "output_type": "stream",
     "text": [
      "CPU times: user 137 ms, sys: 0 ns, total: 137 ms\n",
      "Wall time: 136 ms\n"
     ]
    }
   ],
   "source": [
    "%%time\n",
    "# FFT method\n",
    "\n",
    "hi,wi=inpt.shape[-2:]\n",
    "hk,wk=weight.shape[-2:]\n",
    "ho,wo=hi+hk-1,wi+wk-1\n",
    "inpt_padded=np.pad(inpt,((0,0),(0,0),(0,ho-hi),(0,wo-wi)))\n",
    "weight_padded=np.pad(np.flip(weight,axis=(-1,-2)),((0,0),(0,0),(0,ho-hk),(0,wo-wk)))\n",
    "\n",
    "inpt_hat=np.fft.rfft2(inpt_padded)\n",
    "inpt_hat=np.lib.stride_tricks.as_strided(inpt_hat,\n",
    "                   shape=(inpt_hat.shape[0],weight.shape[0],*inpt_hat.shape[1:]),\n",
    "                   strides=(inpt_hat.strides[0],0,*inpt_hat.strides[1:]),\n",
    "                   writeable=False)\n",
    "weight_hat=np.fft.rfft2(weight_padded)\n",
    "result_hat=np.einsum('...ijk,...ijk->...jk',inpt_hat,weight_hat)\n",
    "result=np.fft.irfft2(result_hat,s=(ho,wo))\n",
    "y_fft=result[...,(hk-1):(hi-(hk&1==0)),(wk-1):(wi-(wk&1==0))] # mode valid"
   ]
  },
  {
   "cell_type": "code",
   "execution_count": 23,
   "metadata": {},
   "outputs": [
    {
     "name": "stdout",
     "output_type": "stream",
     "text": [
      "CPU times: user 28.9 ms, sys: 7.89 ms, total: 36.8 ms\n",
      "Wall time: 21.7 ms\n"
     ]
    }
   ],
   "source": [
    "%%time\n",
    "# torch\n",
    "\n",
    "m=torch.nn.Conv2d(2,1,1,bias=False)\n",
    "m.weight.data=torch.tensor(weight)\n",
    "y_torch=m(torch.tensor(inpt))"
   ]
  },
  {
   "cell_type": "code",
   "execution_count": 24,
   "metadata": {},
   "outputs": [
    {
     "name": "stdout",
     "output_type": "stream",
     "text": [
      "True\n",
      "True\n"
     ]
    }
   ],
   "source": [
    "print(np.allclose(y_torch.detach().numpy(),y_mat))\n",
    "print(np.allclose(y_torch.detach().numpy(),y_fft))"
   ]
  },
  {
   "cell_type": "code",
   "execution_count": 25,
   "metadata": {},
   "outputs": [
    {
     "name": "stdout",
     "output_type": "stream",
     "text": [
      "error using mat. mul. 4.062655573288714e-21\n",
      "error using fft       1.3044387843955493e-21\n"
     ]
    }
   ],
   "source": [
    "print(f'error using mat. mul. {((y_torch.detach().numpy()-y_mat)**2).sum()}')\n",
    "print(f'error using fft       {((y_torch.detach().numpy()-y_fft)**2).sum()}')"
   ]
  },
  {
   "cell_type": "code",
   "execution_count": null,
   "metadata": {},
   "outputs": [],
   "source": []
  }
 ],
 "metadata": {
  "kernelspec": {
   "display_name": "Python 3",
   "language": "python",
   "name": "python3"
  },
  "language_info": {
   "codemirror_mode": {
    "name": "ipython",
    "version": 3
   },
   "file_extension": ".py",
   "mimetype": "text/x-python",
   "name": "python",
   "nbconvert_exporter": "python",
   "pygments_lexer": "ipython3",
   "version": "3.8.5"
  }
 },
 "nbformat": 4,
 "nbformat_minor": 4
}
