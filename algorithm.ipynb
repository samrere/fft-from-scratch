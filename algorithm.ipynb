{
 "cells": [
  {
   "cell_type": "code",
   "execution_count": 1,
   "metadata": {},
   "outputs": [],
   "source": [
    "import numpy as np"
   ]
  },
  {
   "cell_type": "markdown",
   "metadata": {},
   "source": [
    "example: evaluate a degree-bound 4 polynomial $A(x)=a_0+a_1x+a_2x^2+a_3x^3$:\n",
    "\n",
    "step 1: double its degree-bound to 8: $A=[a_0,a_1,a_2,a_3,0,0,0,0]$  \n",
    "\n",
    "step 2: evaluate at its 8 complex 8th roots of unity: $w_n^k\\equiv e^{-2{\\pi}ik/n}$, where, $n=8$ and $k=0,1,...,7$\n",
    "\n",
    "step 3:  \n",
    "$A([w_8^0,...,w_8^7])=A^{(0)}([(w_8^0)^2,...,(w_8^7)^2])+[w_8^0,...,w_8^7]A^{(1)}([(w_8^0)^2,...,(w_8^7)^2])$  \n",
    "from the halving lemma $(w_n^k)^2=(w_n^{k+n/2})^2$: $[(w_8^0)^2,...,(w_8^3)^2]=[(w_8^4)^2,...,(w_8^7)^2]$  \n",
    "we can split $A([w_8^0,...,w_8^7])$ into two subproblems: $A([w_8^0,...,w_8^3])$ and $A([w_8^4,...,w_8^7])$. We calculates each half and then concatenate to the full problem.  \n",
    "$A([w_8^0,...,w_8^3])$  \n",
    "$=A^{(0)}([(w_8^0)^2,...,(w_8^3)^2])+[w_8^0,...,w_8^3]A^{(1)}([(w_8^0)^2,...,(w_8^3)^2])$  \n",
    "from the cancellation lemma: $w_{nd}^{kd}=w_n^k$  \n",
    "$=A^{(0)}([w_4^0,...,w_4^3])+[w_8^0,...,w_8^3]A^{(1)}([w_4^0,...,w_4^3])$  \n",
    "and the other half:  \n",
    "$A([w_8^4,...,w_8^7])$  \n",
    "$=A^{(0)}([(w_8^4)^2,...,(w_8^7)^2])+[w_8^4,...,w_8^7]A^{(1)}([(w_8^4)^2,...,(w_8^7)^2])$  \n",
    "$=A^{(0)}([(w_8^0)^2,...,(w_8^3)^2])+[w_8^4,...,w_8^7]A^{(1)}([(w_8^0)^2,...,(w_8^3)^2])$  \n",
    "$=A^{(0)}([w_4^0,...,w_4^3])+[w_8^4,...,w_8^7]A^{(1)}([w_4^0,...,w_4^3])$  \n",
    "from the intermediate result of halving lemma: $w_n^{k+n/2}=-w_n^k$  \n",
    "$=A^{(0)}([w_4^0,...,w_4^3])-[w_8^0,...,w_8^3]A^{(1)}([w_4^0,...,w_4^3])$  \n",
    "\n",
    "To summarize:  \n",
    "$A([w_8^0,...,w_8^7])$ is split into:  \n",
    "$A([w_8^0,...,w_8^3])=A^{(0)}([w_4^0,...,w_4^3])+[w_8^0,...,w_8^3]A^{(1)}([w_4^0,...,w_4^3])$  \n",
    "and  \n",
    "$A([w_8^4,...,w_8^7])=A^{(0)}([w_4^0,...,w_4^3])-[w_8^0,...,w_8^3]A^{(1)}([w_4^0,...,w_4^3])$  \n",
    "\n",
    "$[w_8^0,...,w_8^3]$ is the twiddle factor and can be calculated during initialization and stores in a dictionary. Twiddle factors when $N=8$ has 4 elements:"
   ]
  },
  {
   "cell_type": "code",
   "execution_count": 4,
   "metadata": {},
   "outputs": [
    {
     "data": {
      "text/plain": [
       "array([ 1.00000000e+00+0.j        ,  7.07106781e-01-0.70710678j,\n",
       "        6.12323400e-17-1.j        , -7.07106781e-01-0.70710678j])"
      ]
     },
     "execution_count": 4,
     "metadata": {},
     "output_type": "execute_result"
    }
   ],
   "source": [
    "N=8\n",
    "np.exp(-2j*np.pi*np.arange(N/2)/ N)"
   ]
  },
  {
   "cell_type": "markdown",
   "metadata": {},
   "source": [
    "The algorithm is recursive, but it can be vectorized to be faster."
   ]
  },
  {
   "cell_type": "code",
   "execution_count": null,
   "metadata": {},
   "outputs": [],
   "source": []
  }
 ],
 "metadata": {
  "kernelspec": {
   "display_name": "Python 3",
   "language": "python",
   "name": "python3"
  },
  "language_info": {
   "codemirror_mode": {
    "name": "ipython",
    "version": 3
   },
   "file_extension": ".py",
   "mimetype": "text/x-python",
   "name": "python",
   "nbconvert_exporter": "python",
   "pygments_lexer": "ipython3",
   "version": "3.8.5"
  }
 },
 "nbformat": 4,
 "nbformat_minor": 4
}
